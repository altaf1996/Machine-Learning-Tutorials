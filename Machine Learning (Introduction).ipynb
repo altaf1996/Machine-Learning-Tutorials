{
 "cells": [
  {
   "cell_type": "markdown",
   "metadata": {},
   "source": [
    "## What is Machine Learning ?\n",
    "\n",
    "- Machine Learning (ML) is a branch of Artificial Intellegence (AI) focused on\n",
    "  building applications that learn from data and improve their accuracy over     time without being explictly programmed. \n",
    "- Machine Learning is the science (and art) of programming computers so they     can learn from data.\n",
    "- A computer program is said to learn from experience E with respect to some     task T and some performance measure P, if its performance on T, as measured     by P, improves with experience E.\n",
    "\n",
    "- Eg, Whether to mark a message as a spam or not spam. The Machine Learning       Program can learn to flag a message by seeing many examples. The examples the\n",
    "  system uses to learn are called the training set. Each training example is     called a _training_ _instance_ (or sample). "
   ]
  },
  {
   "cell_type": "markdown",
   "metadata": {},
   "source": [
    "<img src=\"ml.jpeg\"/>"
   ]
  },
  {
   "cell_type": "markdown",
   "metadata": {},
   "source": [
    "# Why Use Machine Learning ?\n",
    "- In normal Programming language we will write a program using traditional approach.\n",
    "- 1) For Example First we will look how spam email looks like based on that we will write a set of rules. We noticed that some words or phrase such as (\"credit card\", \"amazing\", \"Free\", \"Discount\", \"4U\") tend to come up a lot in the subject and we also notice few other patterns in the senders name, the emails body and so on...\n",
    "- 2)Then we will write a detection algorithm for each of these pattern and our program would flag a email as spam or not-spam if a number of these pattern detected.\n",
    "- 3) You would test your program, and repeat step 2 and step 3 until it is good enough.\n",
    "- Then we lauch it to production after some time the Spammers notice that all their emails containing (\"credit card\", \"amazing\", \"Free\", \"Discount\", \"4U\") are blocked they may start writing \"4U\" as \"For you\" or as \"For U\" ,\"Free\" as \"No Money\" then again we have to write a set of rules for these changes and so on Forever.\n",
    "- By Using Traditional approach our program will become a long list of rules and pretty hard to maintain.\n",
    "- In contrast, a spam filter based on Machine Learning techniques automatically notices that \"For U\" has become unusually frequent in spam flagged by users, and it starts flagging them without your intervention.\n",
    "- Another Area where Machine Learning shines is for problems that either are too complex for traditional approaches or have no known algorithm. For example speech recognition.\n"
   ]
  },
  {
   "cell_type": "markdown",
   "metadata": {},
   "source": [
    "#### To summarize, Machine Learning is great for ...\n",
    "##### -> Problems for which existing solutions require a lot of hand-tuning or long list of rules: one Machine Learning algorithm can often simplify code and perform better\n",
    "##### -> Complex Problems for which there is no good solution at all using a traditional approach: the best Machine Learning techniques can find a solution.\n",
    "##### -> Fluctuating enviornments: a Machine Learning system can adapt to new data.\n",
    "##### -> Getting Insights about complex problems and large amounts of data."
   ]
  },
  {
   "cell_type": "markdown",
   "metadata": {},
   "source": [
    "![](1222-8.jpg)"
   ]
  },
  {
   "cell_type": "markdown",
   "metadata": {},
   "source": [
    "# Types of Machine Learning Systems\n",
    "\n",
    "- There are so many different types of Machine Learning systems that is useful to classify them.\n",
    "- 1) Supervised\n",
    "- 2) UnSupervised\n",
    "- 3) Semi-Supervised\n",
    "- 4) Reinforcement Learning"
   ]
  },
  {
   "cell_type": "markdown",
   "metadata": {},
   "source": [
    "#### Supervised Learning\n",
    "\n",
    "- In Supervised Learning we are given a dataset and we already knows what our correct output should look like.\n",
    "- In _Supervised Learning_,the training data you feed to the algorithm includes the desired solutions, called labels\n",
    "- Supervised Learning are of two types 1) Classification & 2) Regression\n",
    "![](spam_data.jpg)\n",
    "- Here are the some of the most important supervised learning algorithms (covered in this course)\n",
    "- 1) Linear Regression\n",
    "- 2) Logistic Regression\n",
    "- 3) K-Nearest Neighbors\n",
    "- 4) Support Vector Machines (SVMs)\n",
    "- 5) Decision Trees and Random Forests\n",
    "- 6) Neural Networks"
   ]
  },
  {
   "cell_type": "markdown",
   "metadata": {},
   "source": [
    "# Unsupervised Learning\n",
    "- In Unsupervised Learning we are given a dataset but we don't know what our output should look like there is no label\n",
    "- Suppose, you have a lot of data about your blog's visitors. You want to group your visitor based on similarities. For example, you notice that your 40% of your visitors are males who love comic books and generally read your blog in the evening, while 20% are young sci-fi lovers who visit during the weekends, and so on based on similarities you make a cluster of two groups \n",
    "- Visualization algorithms are also a good example of unsupervised learning algorithms: you feed them a lot of complex and unlabelled data, and they output a 2D or 3D representation of your data that can be easily plotted and one can identify unsuspected patterns from data\n",
    "![](cluster_image.png)\n",
    "- Here are the most important unsupervised learning algorithms\n",
    "\n",
    "- _Clustering_\n",
    "- 1) K-Means\n",
    "- 2) DBSCAN\n",
    "- _Anomaly detection and novelty detection_\n",
    "- 1) One-class SVM\n",
    "- 2) Isolation Forest\n",
    "- _Visualization and dimensionality reduction_\n",
    "- 1) Principal Component Analysis (PCA)\n",
    "- 2) Kernel PCA"
   ]
  },
  {
   "cell_type": "markdown",
   "metadata": {},
   "source": [
    "# Semisupervised Learning\n",
    "- Some algorithms can deal with partially labeled data, usually a lot of unlabeled data and a litte bit of labeled data. This is called semisupervised learning\n",
    "- Eg, Google Photos are a good examples of this. Once you upload all your family photos to the serice, it automatically recognizes that the same person A shows up in photos 1,5 and 11, while another person B shows up in photos 2,5,7 this is the unsupervised part of the algorithm (clustering). Now all the system needs is for you to tell it who these people are,Just one label per person,and it is able to name  everyone in every photo. which is a supervised part of the algorithm\n",
    "- Most Semi Supervised learning algorithms are combinations of unsupervised and supervised algorithms\n",
    "![](semisupervised.png)"
   ]
  },
  {
   "cell_type": "markdown",
   "metadata": {},
   "source": [
    "# Reinforcement Learning\n",
    "- It is a very different kind of beast. The learning system, called an agent in this context,the agent can observe the enviornment, select and perform actions, and get rewards in return or Penalties in the form of negative reward.\n",
    "- It learns itself what is the best strategy, called _policy_, to get the most reward over time. A policy defines what action the agent should choose when it is in a given situation.\n",
    "- DeepMind's AiphaGo was the best example of reinforcement learning it made a headlines in May 2017 when it beat the world champion ke jie at the game of GO. It learned it winning policy by analyzing millions of games, and then playing many games againt itself.\n",
    "![](reinforcement3.png)"
   ]
  },
  {
   "cell_type": "markdown",
   "metadata": {},
   "source": [
    "# Main Challenges of Machine Learning\n",
    "- In machine learning your main task is to select a learning algorithm and train it on some data, the two things that can go wrong are \"BAD ALGORITHM\" and \"BAD DATA\". \n",
    "\n",
    "## Let's start with examples of bad data :-\n",
    "### Insufficient Quantity of Training Data\n",
    "- For a child to learn what an apple is we have to do is to teach him by saying that this is an apple after repeting this procedure a few times a child is able to recognize apples in all sort of color and shapes Great\n",
    "- Machine Learning is not quite there yet, it takes a lot of data for most Machine Learning algorithms to work properly. Even for very simple problems you typically need thousands of examples, and for complex problems such as image or speech recognition you may need millions of examples\n",
    "![](insufficient_amount_of_data.jpg)\n",
    "### Non-representative Training Data\n",
    "- In order to get good results it is crucial that your training data must be representative of the cases you want to predict in future.\n",
    "- It is crucial to use a training set that is representative of these cases you want to generalize to. This is often harder then it sounds: if the sample is to small, you will have _sampling noise_, but even very large samples can be nonrepresentative if the sampling method is flawed This is called sampling bias\n",
    "### Poor - Quality Data\n",
    "- If our data is full of errors, mistakes, outliers and noise due to poor quality measurements, it will make it harder for the system to detect the pattern from the data so our model will not perform well often it is best to spend time cleaning up trainig data. The truth is that most Data Scientist or Machine Learning engineers spend there most time doing a data cleaning \n",
    "- If some instances are outliers in our dataset we can simply remove it or try to fix it manually\n",
    "- If some instances are missing a few features we can fill it aor we can remove it \n",
    "### Irrelevent Features\n",
    "- If the features are irrelevent not containing the proper information about the problem we are trying to solve then it will not perform well on real world\n",
    "- As the saying goes : Garbage in, Garbage out.\n",
    "- A critical part of the sucess of a Machine Learning project is coming up with a good set of features to train on this process is called featrure engineering it involes _Feature Selection: select most useful features, Feature Extraction:combining existing features to produce a more useful on, Creating a new feature by gathering a new data _\n",
    "\n",
    "#### Now that we have looked at many examples of bad data, let's look at a couple of examples of bad algorithms"
   ]
  },
  {
   "cell_type": "markdown",
   "metadata": {},
   "source": [
    "# Bad Algorithms\n",
    "\n",
    "## Overfitting the Training Data\n",
    "- Our models learn the training data so well that it can't perform well on new data \n",
    "- Example : Suppose you are visiting a foreign country and the taxi driver has stolen your wallet now you would say that all taxi drivers in this country is thieves. but it is not a actual case Overgeneralizing is something that we human do all too often, and unfortunately machines can fall into the same trap if we are not careful. In machine learning this is called overfitting\n",
    "- Overfitting means it performs well on training data but it doesn,t perform well on test data or (new data) \n",
    "- i)   To avoid overfitting we can regularize our model\n",
    "- ii)  To Gather more training data OR\n",
    "- iii) To reduce noise in the training data (fix errors or remove outliers)\n",
    "\n",
    "## Underfitting the Training Data\n",
    "- Underfitting is the opposite of Overfitting\n",
    "- It occurs when your model is too simple to learn the patterns from data\n",
    "- In underfitting our model performance will be worst on both traing data and as well as on test data or (new_data)\n",
    "- i)   To avoid Underfitting select a more Powerful model, with more parameters\n",
    "- ii)  Feeding better features to the learning algorithms (feature engineering)\n",
    "- iii) Reduce the regularization parameter.\n",
    "\n",
    "![](OvsU.jpg)"
   ]
  },
  {
   "cell_type": "code",
   "execution_count": null,
   "metadata": {},
   "outputs": [],
   "source": [
    "# Tes"
   ]
  }
 ],
 "metadata": {
  "kernelspec": {
   "display_name": "Python 3",
   "language": "python",
   "name": "python3"
  },
  "language_info": {
   "codemirror_mode": {
    "name": "ipython",
    "version": 3
   },
   "file_extension": ".py",
   "mimetype": "text/x-python",
   "name": "python",
   "nbconvert_exporter": "python",
   "pygments_lexer": "ipython3",
   "version": "3.8.5"
  }
 },
 "nbformat": 4,
 "nbformat_minor": 4
}
